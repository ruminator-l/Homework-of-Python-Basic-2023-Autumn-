{
 "cells": [
  {
   "cell_type": "markdown",
   "id": "662f7176",
   "metadata": {},
   "source": [
    "### Homework1"
   ]
  },
  {
   "cell_type": "markdown",
   "id": "bc8eb875",
   "metadata": {},
   "source": [
    "### A robot is located at the top-left corner of a m x n grid (marked 'Start' in the diagram below).\n",
    "### The robot can only move either down or right at any point in time. \n",
    "### The robot is trying to reach the bottom-right corner of the grid (marked 'Finish' in the diagram below).\n",
    "### How many possible unique paths are there?"
   ]
  },
  {
   "cell_type": "code",
   "execution_count": null,
   "id": "c9a342b7",
   "metadata": {},
   "outputs": [],
   "source": [
    "# Input: m = 3, n = 2\n",
    "# Output: 3\n",
    "# Explanation:\n",
    "# From the top-left corner, there are a total of 3 ways to reach the bottom-right corner:\n",
    "# 1. Right -> Down -> Down\n",
    "# 2. Down -> Down -> Right\n",
    "# 3. Down -> Right -> Down"
   ]
  },
  {
   "cell_type": "code",
   "execution_count": 2,
   "id": "1cdaa7db",
   "metadata": {},
   "outputs": [
    {
     "data": {
      "text/plain": [
       "3"
      ]
     },
     "execution_count": 2,
     "metadata": {},
     "output_type": "execute_result"
    }
   ],
   "source": [
    "def uniquePaths(m, n):\n",
    "    dp = [[0] * n for _ in range(m)]\n",
    "    for i in range(m):\n",
    "        dp[i][0] = 1\n",
    "    for j in range(n):\n",
    "        dp[0][j] = 1\n",
    "\n",
    "    for i in range(1, m):\n",
    "        for j in range(1, n):\n",
    "            dp[i][j] = dp[i-1][j] + dp[i][j-1]\n",
    "\n",
    "    return dp[m-1][n-1]\n",
    "\n",
    "# 示例\n",
    "m = 3\n",
    "n = 2\n",
    "result = uniquePaths(m, n)\n",
    "result"
   ]
  },
  {
   "cell_type": "markdown",
   "id": "23c02169",
   "metadata": {},
   "source": [
    "### Homework 2"
   ]
  },
  {
   "cell_type": "markdown",
   "id": "53e272dd",
   "metadata": {},
   "source": [
    "### Given an integer array nums, return the length of the longest strictly increasing subsequence.\n",
    "### A subsequence is a sequence that can be derived from an array by deleting some or no elements without changing the order of the remaining elements. \n",
    "### For example, [3,6,2,7] is a subsequence of the array [0,3,1,6,2,2,7]."
   ]
  },
  {
   "cell_type": "code",
   "execution_count": null,
   "id": "b71550b0",
   "metadata": {},
   "outputs": [],
   "source": [
    "# Example 1:\n",
    "# Input: nums = [10,9,2,5,3,7,101,18]\n",
    "# Output: 4\n",
    "# Explanation: The longest increasing subsequence is [2,3,7,101], therefore the length is 4.\n",
    "    \n",
    "# Example 2:\n",
    "# Input: nums = [0,1,0,3,2,3]\n",
    "# Output: 4"
   ]
  },
  {
   "cell_type": "code",
   "execution_count": 3,
   "id": "ba8ff888",
   "metadata": {},
   "outputs": [
    {
     "name": "stdout",
     "output_type": "stream",
     "text": [
      "4\n",
      "4\n"
     ]
    }
   ],
   "source": [
    "def lengthOfLIS(nums):\n",
    "    n = len(nums)\n",
    "    dp = [1] * n\n",
    "\n",
    "    for i in range(1, n):\n",
    "        for j in range(i):\n",
    "            if nums[i] > nums[j]:\n",
    "                dp[i] = max(dp[i], dp[j] + 1)\n",
    "\n",
    "    return max(dp)\n",
    "\n",
    "# 示例\n",
    "nums1 = [10, 9, 2, 5, 3, 7, 101, 18]\n",
    "result1 = lengthOfLIS(nums1)\n",
    "print(result1)\n",
    "\n",
    "nums2 = [0, 1, 0, 3, 2, 3]\n",
    "result2 = lengthOfLIS(nums2)\n",
    "print(result2)"
   ]
  },
  {
   "cell_type": "code",
   "execution_count": null,
   "id": "e7e21c23",
   "metadata": {},
   "outputs": [],
   "source": []
  }
 ],
 "metadata": {
  "kernelspec": {
   "display_name": "Python 3 (ipykernel)",
   "language": "python",
   "name": "python3"
  },
  "language_info": {
   "codemirror_mode": {
    "name": "ipython",
    "version": 3
   },
   "file_extension": ".py",
   "mimetype": "text/x-python",
   "name": "python",
   "nbconvert_exporter": "python",
   "pygments_lexer": "ipython3",
   "version": "3.11.3"
  }
 },
 "nbformat": 4,
 "nbformat_minor": 5
}
