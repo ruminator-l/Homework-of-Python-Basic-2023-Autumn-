{
 "cells": [
  {
   "cell_type": "markdown",
   "id": "28db19c0",
   "metadata": {},
   "source": [
    "### Homework 1\n",
    "\n",
    "###### Given two strings s and t, return true if t is an anagram of s, and false otherwise. (Using Dictionary)\n",
    "###### Example :\n",
    "###### Input: s = \"anagram\", t = \"nagaram\"\n",
    "###### Output: True\n",
    "###### print(IsAnagram(s,t)) \t"
   ]
  },
  {
   "cell_type": "code",
   "execution_count": 7,
   "id": "e2ae7ab8",
   "metadata": {},
   "outputs": [
    {
     "data": {
      "text/plain": [
       "True"
      ]
     },
     "execution_count": 7,
     "metadata": {},
     "output_type": "execute_result"
    }
   ],
   "source": [
    "def IsAnagram(s,t):\n",
    "    if len(s) != len(t):\n",
    "        return False\n",
    "    \n",
    "    freq_s = {}\n",
    "    freq_t = {}\n",
    "    for char in s:\n",
    "        freq_s[char] = freq_s.get(char, 0) + 1\n",
    "    for char in t:\n",
    "        freq_t[char] = freq_t.get(char, 0) + 1\n",
    "    \n",
    "    return freq_s == freq_t\n",
    "\n",
    "# Example usage\n",
    "s = \"anagram\"\n",
    "t = \"nagaram\"\n",
    "result = IsAnagram(s, t)\n",
    "result"
   ]
  },
  {
   "cell_type": "markdown",
   "id": "e58fdb0e",
   "metadata": {},
   "source": [
    "### Homework 2\n",
    "\n",
    "###### Given a non-negative integer x, compute and return the square root of x.\n",
    "\n",
    "###### Since the return type is an integer, the decimal digits are truncated, and only the integer part of the result is returned.\n",
    "\n",
    "######  Note: You are not allowed to use any built-in exponent function or operator, such as pow(x, 0.5) or x ** 0.5.\n",
    "\n",
    "###### Example:\n",
    "###### Input: x = 8\n",
    "###### Output: 2"
   ]
  },
  {
   "cell_type": "code",
   "execution_count": 8,
   "id": "b49ad216",
   "metadata": {},
   "outputs": [
    {
     "data": {
      "text/plain": [
       "2"
      ]
     },
     "execution_count": 8,
     "metadata": {},
     "output_type": "execute_result"
    }
   ],
   "source": [
    "def MySqrt(x):\n",
    "    if x == 0:\n",
    "        return 0\n",
    "    guess = x    \n",
    "    while True:\n",
    "        # Newton's method formula for square root\n",
    "        new_guess = 0.5 * (guess + x / guess)\n",
    "        if abs(guess - new_guess) < 1e-6:\n",
    "            break        \n",
    "        guess = new_guess\n",
    "    \n",
    "    # Convert the final guess to an integer\n",
    "    return int(new_guess)\n",
    "\n",
    "# Example usage\n",
    "x = 8\n",
    "result = MySqrt(x)\n",
    "result"
   ]
  },
  {
   "cell_type": "code",
   "execution_count": null,
   "id": "a0c8c397",
   "metadata": {},
   "outputs": [],
   "source": []
  }
 ],
 "metadata": {
  "kernelspec": {
   "display_name": "Python 3 (ipykernel)",
   "language": "python",
   "name": "python3"
  },
  "language_info": {
   "codemirror_mode": {
    "name": "ipython",
    "version": 3
   },
   "file_extension": ".py",
   "mimetype": "text/x-python",
   "name": "python",
   "nbconvert_exporter": "python",
   "pygments_lexer": "ipython3",
   "version": "3.11.3"
  }
 },
 "nbformat": 4,
 "nbformat_minor": 5
}
