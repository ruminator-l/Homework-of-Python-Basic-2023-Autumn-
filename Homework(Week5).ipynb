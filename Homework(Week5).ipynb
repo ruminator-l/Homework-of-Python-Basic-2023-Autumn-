{
 "cells": [
  {
   "cell_type": "markdown",
   "id": "3dbd451c",
   "metadata": {},
   "source": [
    "### Homework"
   ]
  },
  {
   "cell_type": "markdown",
   "id": "fee4acb2",
   "metadata": {},
   "source": [
    "### Given H1.xls, extract all the hyperlinks into one column, as illusrated in New_H1.xls."
   ]
  },
  {
   "cell_type": "code",
   "execution_count": 8,
   "id": "c5c17b39",
   "metadata": {},
   "outputs": [],
   "source": [
    "import xlrd\n",
    "import xlwt\n",
    "import re\n",
    "\n",
    "workbook = xlwt.Workbook(encoding = 'ascii')\n",
    "worksheet = workbook.add_sheet('Hyperlinks')\n",
    "data = xlrd.open_workbook('D:/python-exp/Python(basic)/Week 5/H1.xls')\n",
    "sheet1 = data.sheet_by_index(0)\n",
    "reg = \"https.*\"\n",
    "\n",
    "for i in range(1,sheet1.nrows):\n",
    "    link = sheet1.cell_value(i,sheet1.ncols-1)\n",
    "    if re.search(\"http\", link) == None:  \n",
    "        link = sheet1.hyperlink_map.get((i,sheet1.ncols-1)).url_or_path\n",
    "    else:\n",
    "        link = re.search(reg, link).group()\n",
    "    worksheet.write(i-1,0, label = link)\n",
    "\n",
    "workbook.save('D:/python-exp/Python(basic)/Week 5/New_H1.xls')"
   ]
  },
  {
   "cell_type": "code",
   "execution_count": 4,
   "id": "b5dc20fd",
   "metadata": {},
   "outputs": [],
   "source": [
    "# open the url file\n",
    "import webbrowser\n",
    "\n",
    "data_open = xlrd.open_workbook('D:/python-exp/Python(basic)/Week 5/New_H1.xls')\n",
    "sheet1_open = data_open.sheet_by_index(0)\n",
    "\n",
    "rows = sheet1_open.nrows\n",
    "for i in range(0,rows):\n",
    "    webbrowser.open_new(sheet1_open.cell_value(i,0))"
   ]
  },
  {
   "cell_type": "code",
   "execution_count": null,
   "id": "e2be1817",
   "metadata": {},
   "outputs": [],
   "source": []
  }
 ],
 "metadata": {
  "kernelspec": {
   "display_name": "Python 3 (ipykernel)",
   "language": "python",
   "name": "python3"
  },
  "language_info": {
   "codemirror_mode": {
    "name": "ipython",
    "version": 3
   },
   "file_extension": ".py",
   "mimetype": "text/x-python",
   "name": "python",
   "nbconvert_exporter": "python",
   "pygments_lexer": "ipython3",
   "version": "3.11.3"
  }
 },
 "nbformat": 4,
 "nbformat_minor": 5
}
